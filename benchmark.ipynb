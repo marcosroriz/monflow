{
 "cells": [
  {
   "cell_type": "code",
   "execution_count": 1,
   "metadata": {},
   "outputs": [],
   "source": [
    "# Jupyter Imports\n",
    "import warnings\n",
    "from IPython.display import SVG\n",
    "from IPython.display import display\n",
    "\n",
    "warnings.simplefilter('ignore')\n",
    "%matplotlib inline"
   ]
  },
  {
   "cell_type": "code",
   "execution_count": 2,
   "metadata": {},
   "outputs": [],
   "source": [
    "# Basic Imports\n",
    "import numpy as np\n",
    "import pandas as pd"
   ]
  },
  {
   "cell_type": "code",
   "execution_count": 3,
   "metadata": {},
   "outputs": [],
   "source": [
    "# Graphical Imports\n",
    "import matplotlib.pyplot as plt\n",
    "import seaborn as sns\n",
    "from matplotlib.ticker import PercentFormatter\n",
    "from matplotlib import rc\n",
    "sns.reset_defaults()\n",
    "sns.reset_orig()\n",
    "sns.color_palette(\"Set2\")\n",
    "rc('font', **{\"size\": 12})"
   ]
  },
  {
   "cell_type": "code",
   "execution_count": 4,
   "metadata": {},
   "outputs": [
    {
     "data": {
      "text/html": [
       "<div>\n",
       "<style scoped>\n",
       "    .dataframe tbody tr th:only-of-type {\n",
       "        vertical-align: middle;\n",
       "    }\n",
       "\n",
       "    .dataframe tbody tr th {\n",
       "        vertical-align: top;\n",
       "    }\n",
       "\n",
       "    .dataframe thead th {\n",
       "        text-align: right;\n",
       "    }\n",
       "</style>\n",
       "<table border=\"1\" class=\"dataframe\">\n",
       "  <thead>\n",
       "    <tr style=\"text-align: right;\">\n",
       "      <th></th>\n",
       "      <th>ID</th>\n",
       "      <th>DATAANALISE</th>\n",
       "      <th>CAMERAID</th>\n",
       "      <th>QTDEPESSOAS</th>\n",
       "    </tr>\n",
       "  </thead>\n",
       "  <tbody>\n",
       "    <tr>\n",
       "      <th>0</th>\n",
       "      <td>37217</td>\n",
       "      <td>2020-05-18 10:38:45</td>\n",
       "      <td>1720</td>\n",
       "      <td>0</td>\n",
       "    </tr>\n",
       "    <tr>\n",
       "      <th>1</th>\n",
       "      <td>37218</td>\n",
       "      <td>2020-05-18 10:39:16</td>\n",
       "      <td>1722</td>\n",
       "      <td>0</td>\n",
       "    </tr>\n",
       "    <tr>\n",
       "      <th>2</th>\n",
       "      <td>37219</td>\n",
       "      <td>2020-05-18 10:39:35</td>\n",
       "      <td>1723</td>\n",
       "      <td>0</td>\n",
       "    </tr>\n",
       "    <tr>\n",
       "      <th>3</th>\n",
       "      <td>37220</td>\n",
       "      <td>2020-05-18 10:39:51</td>\n",
       "      <td>1730</td>\n",
       "      <td>0</td>\n",
       "    </tr>\n",
       "    <tr>\n",
       "      <th>4</th>\n",
       "      <td>37221</td>\n",
       "      <td>2020-05-18 10:40:29</td>\n",
       "      <td>1739</td>\n",
       "      <td>2</td>\n",
       "    </tr>\n",
       "    <tr>\n",
       "      <th>...</th>\n",
       "      <td>...</td>\n",
       "      <td>...</td>\n",
       "      <td>...</td>\n",
       "      <td>...</td>\n",
       "    </tr>\n",
       "    <tr>\n",
       "      <th>11034</th>\n",
       "      <td>43458</td>\n",
       "      <td>2020-06-03 15:13:20</td>\n",
       "      <td>1753</td>\n",
       "      <td>2</td>\n",
       "    </tr>\n",
       "    <tr>\n",
       "      <th>11035</th>\n",
       "      <td>43459</td>\n",
       "      <td>2020-06-03 15:14:06</td>\n",
       "      <td>1754</td>\n",
       "      <td>1</td>\n",
       "    </tr>\n",
       "    <tr>\n",
       "      <th>11036</th>\n",
       "      <td>43460</td>\n",
       "      <td>2020-06-03 15:14:02</td>\n",
       "      <td>1762</td>\n",
       "      <td>3</td>\n",
       "    </tr>\n",
       "    <tr>\n",
       "      <th>11037</th>\n",
       "      <td>43461</td>\n",
       "      <td>2020-06-03 15:17:21</td>\n",
       "      <td>1767</td>\n",
       "      <td>0</td>\n",
       "    </tr>\n",
       "    <tr>\n",
       "      <th>11038</th>\n",
       "      <td>43462</td>\n",
       "      <td>2020-06-03 15:14:50</td>\n",
       "      <td>1770</td>\n",
       "      <td>2</td>\n",
       "    </tr>\n",
       "  </tbody>\n",
       "</table>\n",
       "<p>11039 rows × 4 columns</p>\n",
       "</div>"
      ],
      "text/plain": [
       "          ID          DATAANALISE  CAMERAID  QTDEPESSOAS\n",
       "0      37217  2020-05-18 10:38:45      1720            0\n",
       "1      37218  2020-05-18 10:39:16      1722            0\n",
       "2      37219  2020-05-18 10:39:35      1723            0\n",
       "3      37220  2020-05-18 10:39:51      1730            0\n",
       "4      37221  2020-05-18 10:40:29      1739            2\n",
       "...      ...                  ...       ...          ...\n",
       "11034  43458  2020-06-03 15:13:20      1753            2\n",
       "11035  43459  2020-06-03 15:14:06      1754            1\n",
       "11036  43460  2020-06-03 15:14:02      1762            3\n",
       "11037  43461  2020-06-03 15:17:21      1767            0\n",
       "11038  43462  2020-06-03 15:14:50      1770            2\n",
       "\n",
       "[11039 rows x 4 columns]"
      ]
     },
     "execution_count": 4,
     "metadata": {},
     "output_type": "execute_result"
    }
   ],
   "source": [
    "# Dataset\n",
    "fields = [\"ID\", \"DATAANALISE\", \"CAMERAID\", \"QTDEPESSOAS\"]\n",
    "real_df = pd.read_csv(\"data/dataset.csv\", usecols=fields)\n",
    "real_df"
   ]
  },
  {
   "cell_type": "code",
   "execution_count": 5,
   "metadata": {},
   "outputs": [
    {
     "data": {
      "text/html": [
       "<div>\n",
       "<style scoped>\n",
       "    .dataframe tbody tr th:only-of-type {\n",
       "        vertical-align: middle;\n",
       "    }\n",
       "\n",
       "    .dataframe tbody tr th {\n",
       "        vertical-align: top;\n",
       "    }\n",
       "\n",
       "    .dataframe thead th {\n",
       "        text-align: right;\n",
       "    }\n",
       "</style>\n",
       "<table border=\"1\" class=\"dataframe\">\n",
       "  <thead>\n",
       "    <tr style=\"text-align: right;\">\n",
       "      <th></th>\n",
       "      <th>file</th>\n",
       "      <th>pedestrians</th>\n",
       "    </tr>\n",
       "  </thead>\n",
       "  <tbody>\n",
       "    <tr>\n",
       "      <th>0</th>\n",
       "      <td>25770</td>\n",
       "      <td>17</td>\n",
       "    </tr>\n",
       "    <tr>\n",
       "      <th>1</th>\n",
       "      <td>27881</td>\n",
       "      <td>4</td>\n",
       "    </tr>\n",
       "    <tr>\n",
       "      <th>2</th>\n",
       "      <td>29087</td>\n",
       "      <td>3</td>\n",
       "    </tr>\n",
       "    <tr>\n",
       "      <th>3</th>\n",
       "      <td>29090</td>\n",
       "      <td>8</td>\n",
       "    </tr>\n",
       "    <tr>\n",
       "      <th>4</th>\n",
       "      <td>31930</td>\n",
       "      <td>9</td>\n",
       "    </tr>\n",
       "    <tr>\n",
       "      <th>...</th>\n",
       "      <td>...</td>\n",
       "      <td>...</td>\n",
       "    </tr>\n",
       "    <tr>\n",
       "      <th>1652</th>\n",
       "      <td>43500</td>\n",
       "      <td>5</td>\n",
       "    </tr>\n",
       "    <tr>\n",
       "      <th>1653</th>\n",
       "      <td>43501</td>\n",
       "      <td>3</td>\n",
       "    </tr>\n",
       "    <tr>\n",
       "      <th>1654</th>\n",
       "      <td>43502</td>\n",
       "      <td>2</td>\n",
       "    </tr>\n",
       "    <tr>\n",
       "      <th>1655</th>\n",
       "      <td>43511</td>\n",
       "      <td>9</td>\n",
       "    </tr>\n",
       "    <tr>\n",
       "      <th>1656</th>\n",
       "      <td>43512</td>\n",
       "      <td>11</td>\n",
       "    </tr>\n",
       "  </tbody>\n",
       "</table>\n",
       "<p>1657 rows × 2 columns</p>\n",
       "</div>"
      ],
      "text/plain": [
       "       file  pedestrians\n",
       "0     25770           17\n",
       "1     27881            4\n",
       "2     29087            3\n",
       "3     29090            8\n",
       "4     31930            9\n",
       "...     ...          ...\n",
       "1652  43500            5\n",
       "1653  43501            3\n",
       "1654  43502            2\n",
       "1655  43511            9\n",
       "1656  43512           11\n",
       "\n",
       "[1657 rows x 2 columns]"
      ]
     },
     "execution_count": 5,
     "metadata": {},
     "output_type": "execute_result"
    }
   ],
   "source": [
    "# Predicted data\n",
    "pred_df = pd.read_csv(\"output/benchmark-0.2-0.4.csv\")\n",
    "pred_df"
   ]
  },
  {
   "cell_type": "code",
   "execution_count": 6,
   "metadata": {},
   "outputs": [
    {
     "data": {
      "text/html": [
       "<div>\n",
       "<style scoped>\n",
       "    .dataframe tbody tr th:only-of-type {\n",
       "        vertical-align: middle;\n",
       "    }\n",
       "\n",
       "    .dataframe tbody tr th {\n",
       "        vertical-align: top;\n",
       "    }\n",
       "\n",
       "    .dataframe thead th {\n",
       "        text-align: right;\n",
       "    }\n",
       "</style>\n",
       "<table border=\"1\" class=\"dataframe\">\n",
       "  <thead>\n",
       "    <tr style=\"text-align: right;\">\n",
       "      <th></th>\n",
       "      <th>ID</th>\n",
       "      <th>DATAANALISE</th>\n",
       "      <th>CAMERAID</th>\n",
       "      <th>QTDEPESSOAS</th>\n",
       "      <th>file</th>\n",
       "      <th>pedestrians</th>\n",
       "    </tr>\n",
       "  </thead>\n",
       "  <tbody>\n",
       "    <tr>\n",
       "      <th>0</th>\n",
       "      <td>37221</td>\n",
       "      <td>2020-05-18 10:40:29</td>\n",
       "      <td>1739</td>\n",
       "      <td>2</td>\n",
       "      <td>37221</td>\n",
       "      <td>0</td>\n",
       "    </tr>\n",
       "    <tr>\n",
       "      <th>1</th>\n",
       "      <td>37229</td>\n",
       "      <td>2020-05-18 10:46:17</td>\n",
       "      <td>1774</td>\n",
       "      <td>2</td>\n",
       "      <td>37229</td>\n",
       "      <td>2</td>\n",
       "    </tr>\n",
       "    <tr>\n",
       "      <th>2</th>\n",
       "      <td>37258</td>\n",
       "      <td>2020-05-18 10:59:24</td>\n",
       "      <td>1706</td>\n",
       "      <td>5</td>\n",
       "      <td>37258</td>\n",
       "      <td>5</td>\n",
       "    </tr>\n",
       "    <tr>\n",
       "      <th>3</th>\n",
       "      <td>37290</td>\n",
       "      <td>2020-05-18 11:20:37</td>\n",
       "      <td>1774</td>\n",
       "      <td>6</td>\n",
       "      <td>37290</td>\n",
       "      <td>7</td>\n",
       "    </tr>\n",
       "    <tr>\n",
       "      <th>4</th>\n",
       "      <td>37292</td>\n",
       "      <td>2020-05-18 11:21:50</td>\n",
       "      <td>1777</td>\n",
       "      <td>4</td>\n",
       "      <td>37292</td>\n",
       "      <td>3</td>\n",
       "    </tr>\n",
       "    <tr>\n",
       "      <th>...</th>\n",
       "      <td>...</td>\n",
       "      <td>...</td>\n",
       "      <td>...</td>\n",
       "      <td>...</td>\n",
       "      <td>...</td>\n",
       "      <td>...</td>\n",
       "    </tr>\n",
       "    <tr>\n",
       "      <th>1652</th>\n",
       "      <td>43446</td>\n",
       "      <td>2020-06-03 15:00:56</td>\n",
       "      <td>1700</td>\n",
       "      <td>3</td>\n",
       "      <td>43446</td>\n",
       "      <td>3</td>\n",
       "    </tr>\n",
       "    <tr>\n",
       "      <th>1653</th>\n",
       "      <td>43448</td>\n",
       "      <td>2020-06-03 15:02:08</td>\n",
       "      <td>1702</td>\n",
       "      <td>6</td>\n",
       "      <td>43448</td>\n",
       "      <td>4</td>\n",
       "    </tr>\n",
       "    <tr>\n",
       "      <th>1654</th>\n",
       "      <td>43449</td>\n",
       "      <td>2020-06-03 15:03:29</td>\n",
       "      <td>1706</td>\n",
       "      <td>8</td>\n",
       "      <td>43449</td>\n",
       "      <td>5</td>\n",
       "    </tr>\n",
       "    <tr>\n",
       "      <th>1655</th>\n",
       "      <td>43453</td>\n",
       "      <td>2020-06-03 15:10:12</td>\n",
       "      <td>1722</td>\n",
       "      <td>2</td>\n",
       "      <td>43453</td>\n",
       "      <td>2</td>\n",
       "    </tr>\n",
       "    <tr>\n",
       "      <th>1656</th>\n",
       "      <td>43462</td>\n",
       "      <td>2020-06-03 15:14:50</td>\n",
       "      <td>1770</td>\n",
       "      <td>2</td>\n",
       "      <td>43462</td>\n",
       "      <td>2</td>\n",
       "    </tr>\n",
       "  </tbody>\n",
       "</table>\n",
       "<p>1657 rows × 6 columns</p>\n",
       "</div>"
      ],
      "text/plain": [
       "         ID          DATAANALISE  CAMERAID  QTDEPESSOAS   file  pedestrians\n",
       "0     37221  2020-05-18 10:40:29      1739            2  37221            0\n",
       "1     37229  2020-05-18 10:46:17      1774            2  37229            2\n",
       "2     37258  2020-05-18 10:59:24      1706            5  37258            5\n",
       "3     37290  2020-05-18 11:20:37      1774            6  37290            7\n",
       "4     37292  2020-05-18 11:21:50      1777            4  37292            3\n",
       "...     ...                  ...       ...          ...    ...          ...\n",
       "1652  43446  2020-06-03 15:00:56      1700            3  43446            3\n",
       "1653  43448  2020-06-03 15:02:08      1702            6  43448            4\n",
       "1654  43449  2020-06-03 15:03:29      1706            8  43449            5\n",
       "1655  43453  2020-06-03 15:10:12      1722            2  43453            2\n",
       "1656  43462  2020-06-03 15:14:50      1770            2  43462            2\n",
       "\n",
       "[1657 rows x 6 columns]"
      ]
     },
     "execution_count": 6,
     "metadata": {},
     "output_type": "execute_result"
    }
   ],
   "source": [
    "# Join\n",
    "df = real_df.merge(pred_df, left_on='ID', right_on='file')\n",
    "df"
   ]
  },
  {
   "cell_type": "code",
   "execution_count": 7,
   "metadata": {},
   "outputs": [
    {
     "data": {
      "text/html": [
       "<div>\n",
       "<style scoped>\n",
       "    .dataframe tbody tr th:only-of-type {\n",
       "        vertical-align: middle;\n",
       "    }\n",
       "\n",
       "    .dataframe tbody tr th {\n",
       "        vertical-align: top;\n",
       "    }\n",
       "\n",
       "    .dataframe thead th {\n",
       "        text-align: right;\n",
       "    }\n",
       "</style>\n",
       "<table border=\"1\" class=\"dataframe\">\n",
       "  <thead>\n",
       "    <tr style=\"text-align: right;\">\n",
       "      <th></th>\n",
       "      <th>ID</th>\n",
       "      <th>DATAANALISE</th>\n",
       "      <th>CAMERAID</th>\n",
       "      <th>QTDEPESSOAS</th>\n",
       "      <th>file</th>\n",
       "      <th>pedestrians</th>\n",
       "      <th>rawdiff</th>\n",
       "      <th>absdiff</th>\n",
       "    </tr>\n",
       "  </thead>\n",
       "  <tbody>\n",
       "    <tr>\n",
       "      <th>0</th>\n",
       "      <td>37221</td>\n",
       "      <td>2020-05-18 10:40:29</td>\n",
       "      <td>1739</td>\n",
       "      <td>2</td>\n",
       "      <td>37221</td>\n",
       "      <td>0</td>\n",
       "      <td>2</td>\n",
       "      <td>2</td>\n",
       "    </tr>\n",
       "    <tr>\n",
       "      <th>1</th>\n",
       "      <td>37229</td>\n",
       "      <td>2020-05-18 10:46:17</td>\n",
       "      <td>1774</td>\n",
       "      <td>2</td>\n",
       "      <td>37229</td>\n",
       "      <td>2</td>\n",
       "      <td>0</td>\n",
       "      <td>0</td>\n",
       "    </tr>\n",
       "    <tr>\n",
       "      <th>2</th>\n",
       "      <td>37258</td>\n",
       "      <td>2020-05-18 10:59:24</td>\n",
       "      <td>1706</td>\n",
       "      <td>5</td>\n",
       "      <td>37258</td>\n",
       "      <td>5</td>\n",
       "      <td>0</td>\n",
       "      <td>0</td>\n",
       "    </tr>\n",
       "    <tr>\n",
       "      <th>3</th>\n",
       "      <td>37290</td>\n",
       "      <td>2020-05-18 11:20:37</td>\n",
       "      <td>1774</td>\n",
       "      <td>6</td>\n",
       "      <td>37290</td>\n",
       "      <td>7</td>\n",
       "      <td>-1</td>\n",
       "      <td>1</td>\n",
       "    </tr>\n",
       "    <tr>\n",
       "      <th>4</th>\n",
       "      <td>37292</td>\n",
       "      <td>2020-05-18 11:21:50</td>\n",
       "      <td>1777</td>\n",
       "      <td>4</td>\n",
       "      <td>37292</td>\n",
       "      <td>3</td>\n",
       "      <td>1</td>\n",
       "      <td>1</td>\n",
       "    </tr>\n",
       "    <tr>\n",
       "      <th>...</th>\n",
       "      <td>...</td>\n",
       "      <td>...</td>\n",
       "      <td>...</td>\n",
       "      <td>...</td>\n",
       "      <td>...</td>\n",
       "      <td>...</td>\n",
       "      <td>...</td>\n",
       "      <td>...</td>\n",
       "    </tr>\n",
       "    <tr>\n",
       "      <th>1652</th>\n",
       "      <td>43446</td>\n",
       "      <td>2020-06-03 15:00:56</td>\n",
       "      <td>1700</td>\n",
       "      <td>3</td>\n",
       "      <td>43446</td>\n",
       "      <td>3</td>\n",
       "      <td>0</td>\n",
       "      <td>0</td>\n",
       "    </tr>\n",
       "    <tr>\n",
       "      <th>1653</th>\n",
       "      <td>43448</td>\n",
       "      <td>2020-06-03 15:02:08</td>\n",
       "      <td>1702</td>\n",
       "      <td>6</td>\n",
       "      <td>43448</td>\n",
       "      <td>4</td>\n",
       "      <td>2</td>\n",
       "      <td>2</td>\n",
       "    </tr>\n",
       "    <tr>\n",
       "      <th>1654</th>\n",
       "      <td>43449</td>\n",
       "      <td>2020-06-03 15:03:29</td>\n",
       "      <td>1706</td>\n",
       "      <td>8</td>\n",
       "      <td>43449</td>\n",
       "      <td>5</td>\n",
       "      <td>3</td>\n",
       "      <td>3</td>\n",
       "    </tr>\n",
       "    <tr>\n",
       "      <th>1655</th>\n",
       "      <td>43453</td>\n",
       "      <td>2020-06-03 15:10:12</td>\n",
       "      <td>1722</td>\n",
       "      <td>2</td>\n",
       "      <td>43453</td>\n",
       "      <td>2</td>\n",
       "      <td>0</td>\n",
       "      <td>0</td>\n",
       "    </tr>\n",
       "    <tr>\n",
       "      <th>1656</th>\n",
       "      <td>43462</td>\n",
       "      <td>2020-06-03 15:14:50</td>\n",
       "      <td>1770</td>\n",
       "      <td>2</td>\n",
       "      <td>43462</td>\n",
       "      <td>2</td>\n",
       "      <td>0</td>\n",
       "      <td>0</td>\n",
       "    </tr>\n",
       "  </tbody>\n",
       "</table>\n",
       "<p>1657 rows × 8 columns</p>\n",
       "</div>"
      ],
      "text/plain": [
       "         ID          DATAANALISE  CAMERAID  QTDEPESSOAS   file  pedestrians  \\\n",
       "0     37221  2020-05-18 10:40:29      1739            2  37221            0   \n",
       "1     37229  2020-05-18 10:46:17      1774            2  37229            2   \n",
       "2     37258  2020-05-18 10:59:24      1706            5  37258            5   \n",
       "3     37290  2020-05-18 11:20:37      1774            6  37290            7   \n",
       "4     37292  2020-05-18 11:21:50      1777            4  37292            3   \n",
       "...     ...                  ...       ...          ...    ...          ...   \n",
       "1652  43446  2020-06-03 15:00:56      1700            3  43446            3   \n",
       "1653  43448  2020-06-03 15:02:08      1702            6  43448            4   \n",
       "1654  43449  2020-06-03 15:03:29      1706            8  43449            5   \n",
       "1655  43453  2020-06-03 15:10:12      1722            2  43453            2   \n",
       "1656  43462  2020-06-03 15:14:50      1770            2  43462            2   \n",
       "\n",
       "      rawdiff  absdiff  \n",
       "0           2        2  \n",
       "1           0        0  \n",
       "2           0        0  \n",
       "3          -1        1  \n",
       "4           1        1  \n",
       "...       ...      ...  \n",
       "1652        0        0  \n",
       "1653        2        2  \n",
       "1654        3        3  \n",
       "1655        0        0  \n",
       "1656        0        0  \n",
       "\n",
       "[1657 rows x 8 columns]"
      ]
     },
     "execution_count": 7,
     "metadata": {},
     "output_type": "execute_result"
    }
   ],
   "source": [
    "# Compute Difference\n",
    "df[\"rawdiff\"] = df[\"QTDEPESSOAS\"] - df[\"pedestrians\"]\n",
    "df[\"absdiff\"] = abs(df[\"QTDEPESSOAS\"] - df[\"pedestrians\"])\n",
    "df"
   ]
  },
  {
   "cell_type": "code",
   "execution_count": 8,
   "metadata": {},
   "outputs": [
    {
     "data": {
      "text/html": [
       "<div>\n",
       "<style scoped>\n",
       "    .dataframe tbody tr th:only-of-type {\n",
       "        vertical-align: middle;\n",
       "    }\n",
       "\n",
       "    .dataframe tbody tr th {\n",
       "        vertical-align: top;\n",
       "    }\n",
       "\n",
       "    .dataframe thead th {\n",
       "        text-align: right;\n",
       "    }\n",
       "</style>\n",
       "<table border=\"1\" class=\"dataframe\">\n",
       "  <thead>\n",
       "    <tr style=\"text-align: right;\">\n",
       "      <th></th>\n",
       "      <th>ID</th>\n",
       "      <th>DATAANALISE</th>\n",
       "      <th>CAMERAID</th>\n",
       "      <th>QTDEPESSOAS</th>\n",
       "      <th>file</th>\n",
       "      <th>pedestrians</th>\n",
       "      <th>rawdiff</th>\n",
       "      <th>absdiff</th>\n",
       "      <th>diffsq</th>\n",
       "    </tr>\n",
       "  </thead>\n",
       "  <tbody>\n",
       "    <tr>\n",
       "      <th>0</th>\n",
       "      <td>37221</td>\n",
       "      <td>2020-05-18 10:40:29</td>\n",
       "      <td>1739</td>\n",
       "      <td>2</td>\n",
       "      <td>37221</td>\n",
       "      <td>0</td>\n",
       "      <td>2</td>\n",
       "      <td>2</td>\n",
       "      <td>4</td>\n",
       "    </tr>\n",
       "    <tr>\n",
       "      <th>1</th>\n",
       "      <td>37229</td>\n",
       "      <td>2020-05-18 10:46:17</td>\n",
       "      <td>1774</td>\n",
       "      <td>2</td>\n",
       "      <td>37229</td>\n",
       "      <td>2</td>\n",
       "      <td>0</td>\n",
       "      <td>0</td>\n",
       "      <td>0</td>\n",
       "    </tr>\n",
       "    <tr>\n",
       "      <th>2</th>\n",
       "      <td>37258</td>\n",
       "      <td>2020-05-18 10:59:24</td>\n",
       "      <td>1706</td>\n",
       "      <td>5</td>\n",
       "      <td>37258</td>\n",
       "      <td>5</td>\n",
       "      <td>0</td>\n",
       "      <td>0</td>\n",
       "      <td>0</td>\n",
       "    </tr>\n",
       "    <tr>\n",
       "      <th>3</th>\n",
       "      <td>37290</td>\n",
       "      <td>2020-05-18 11:20:37</td>\n",
       "      <td>1774</td>\n",
       "      <td>6</td>\n",
       "      <td>37290</td>\n",
       "      <td>7</td>\n",
       "      <td>-1</td>\n",
       "      <td>1</td>\n",
       "      <td>1</td>\n",
       "    </tr>\n",
       "    <tr>\n",
       "      <th>4</th>\n",
       "      <td>37292</td>\n",
       "      <td>2020-05-18 11:21:50</td>\n",
       "      <td>1777</td>\n",
       "      <td>4</td>\n",
       "      <td>37292</td>\n",
       "      <td>3</td>\n",
       "      <td>1</td>\n",
       "      <td>1</td>\n",
       "      <td>1</td>\n",
       "    </tr>\n",
       "    <tr>\n",
       "      <th>...</th>\n",
       "      <td>...</td>\n",
       "      <td>...</td>\n",
       "      <td>...</td>\n",
       "      <td>...</td>\n",
       "      <td>...</td>\n",
       "      <td>...</td>\n",
       "      <td>...</td>\n",
       "      <td>...</td>\n",
       "      <td>...</td>\n",
       "    </tr>\n",
       "    <tr>\n",
       "      <th>1652</th>\n",
       "      <td>43446</td>\n",
       "      <td>2020-06-03 15:00:56</td>\n",
       "      <td>1700</td>\n",
       "      <td>3</td>\n",
       "      <td>43446</td>\n",
       "      <td>3</td>\n",
       "      <td>0</td>\n",
       "      <td>0</td>\n",
       "      <td>0</td>\n",
       "    </tr>\n",
       "    <tr>\n",
       "      <th>1653</th>\n",
       "      <td>43448</td>\n",
       "      <td>2020-06-03 15:02:08</td>\n",
       "      <td>1702</td>\n",
       "      <td>6</td>\n",
       "      <td>43448</td>\n",
       "      <td>4</td>\n",
       "      <td>2</td>\n",
       "      <td>2</td>\n",
       "      <td>4</td>\n",
       "    </tr>\n",
       "    <tr>\n",
       "      <th>1654</th>\n",
       "      <td>43449</td>\n",
       "      <td>2020-06-03 15:03:29</td>\n",
       "      <td>1706</td>\n",
       "      <td>8</td>\n",
       "      <td>43449</td>\n",
       "      <td>5</td>\n",
       "      <td>3</td>\n",
       "      <td>3</td>\n",
       "      <td>9</td>\n",
       "    </tr>\n",
       "    <tr>\n",
       "      <th>1655</th>\n",
       "      <td>43453</td>\n",
       "      <td>2020-06-03 15:10:12</td>\n",
       "      <td>1722</td>\n",
       "      <td>2</td>\n",
       "      <td>43453</td>\n",
       "      <td>2</td>\n",
       "      <td>0</td>\n",
       "      <td>0</td>\n",
       "      <td>0</td>\n",
       "    </tr>\n",
       "    <tr>\n",
       "      <th>1656</th>\n",
       "      <td>43462</td>\n",
       "      <td>2020-06-03 15:14:50</td>\n",
       "      <td>1770</td>\n",
       "      <td>2</td>\n",
       "      <td>43462</td>\n",
       "      <td>2</td>\n",
       "      <td>0</td>\n",
       "      <td>0</td>\n",
       "      <td>0</td>\n",
       "    </tr>\n",
       "  </tbody>\n",
       "</table>\n",
       "<p>1657 rows × 9 columns</p>\n",
       "</div>"
      ],
      "text/plain": [
       "         ID          DATAANALISE  CAMERAID  QTDEPESSOAS   file  pedestrians  \\\n",
       "0     37221  2020-05-18 10:40:29      1739            2  37221            0   \n",
       "1     37229  2020-05-18 10:46:17      1774            2  37229            2   \n",
       "2     37258  2020-05-18 10:59:24      1706            5  37258            5   \n",
       "3     37290  2020-05-18 11:20:37      1774            6  37290            7   \n",
       "4     37292  2020-05-18 11:21:50      1777            4  37292            3   \n",
       "...     ...                  ...       ...          ...    ...          ...   \n",
       "1652  43446  2020-06-03 15:00:56      1700            3  43446            3   \n",
       "1653  43448  2020-06-03 15:02:08      1702            6  43448            4   \n",
       "1654  43449  2020-06-03 15:03:29      1706            8  43449            5   \n",
       "1655  43453  2020-06-03 15:10:12      1722            2  43453            2   \n",
       "1656  43462  2020-06-03 15:14:50      1770            2  43462            2   \n",
       "\n",
       "      rawdiff  absdiff  diffsq  \n",
       "0           2        2       4  \n",
       "1           0        0       0  \n",
       "2           0        0       0  \n",
       "3          -1        1       1  \n",
       "4           1        1       1  \n",
       "...       ...      ...     ...  \n",
       "1652        0        0       0  \n",
       "1653        2        2       4  \n",
       "1654        3        3       9  \n",
       "1655        0        0       0  \n",
       "1656        0        0       0  \n",
       "\n",
       "[1657 rows x 9 columns]"
      ]
     },
     "execution_count": 8,
     "metadata": {},
     "output_type": "execute_result"
    }
   ],
   "source": [
    "# Diff square\n",
    "df[\"diffsq\"] = (df[\"QTDEPESSOAS\"] - df[\"pedestrians\"]) ** 2\n",
    "df"
   ]
  },
  {
   "cell_type": "markdown",
   "metadata": {},
   "source": [
    "## Plot Two Histogram"
   ]
  },
  {
   "cell_type": "code",
   "execution_count": 9,
   "metadata": {},
   "outputs": [
    {
     "data": {
      "text/plain": [
       "(array([  2, 408, 308, 208, 167, 110,  81,  54,  43,  31,  28,  26,  17,\n",
       "         14,  11,  16,  13,  12,  13,   8,   5,   6,   4,   7,   7,   0,\n",
       "          3,   2,   3,   5,   4,   3,   2,   4,   0,   0,   1,   8,   2,\n",
       "          3,   1,   0,   0,   3,   1,   0,   0,   0,   1,   1,   0,   2,\n",
       "          2,   0,   1,   1,   0,   0,   2,   3], dtype=int64),\n",
       " array([ 1.,  2.,  3.,  4.,  5.,  6.,  7.,  8.,  9., 10., 11., 12., 13.,\n",
       "        14., 15., 16., 17., 18., 19., 20., 21., 22., 23., 24., 25., 26.,\n",
       "        27., 28., 29., 30., 31., 32., 33., 34., 35., 36., 37., 38., 39.,\n",
       "        40., 41., 42., 43., 44., 45., 46., 47., 48., 49., 50., 51., 52.,\n",
       "        53., 54., 55., 56., 57., 58., 59., 60., 61.]))"
      ]
     },
     "execution_count": 9,
     "metadata": {},
     "output_type": "execute_result"
    }
   ],
   "source": [
    "real_series = df[\"QTDEPESSOAS\"]\n",
    "real_series.describe()\n",
    "np.histogram(real_series, bins=60)\n"
   ]
  },
  {
   "cell_type": "code",
   "execution_count": 10,
   "metadata": {},
   "outputs": [
    {
     "data": {
      "text/plain": [
       "(array([ 39,  95, 260, 254, 212, 203, 118, 103,  68,  54,  40,  37,  29,\n",
       "         17,  13,  12,  13,  14,   0,   2,   7,   9,   4,  10,   2,   3,\n",
       "          1,   2,   3,   7,   1,   3,   2,   0,   0,   4,   0,   3,   2,\n",
       "          1,   1,   1,   0,   0,   2,   1,   1,   1,   0,   1,   0,   0,\n",
       "          1,   0,   1], dtype=int64),\n",
       " array([ 0.        ,  0.94545455,  1.89090909,  2.83636364,  3.78181818,\n",
       "         4.72727273,  5.67272727,  6.61818182,  7.56363636,  8.50909091,\n",
       "         9.45454545, 10.4       , 11.34545455, 12.29090909, 13.23636364,\n",
       "        14.18181818, 15.12727273, 16.07272727, 17.01818182, 17.96363636,\n",
       "        18.90909091, 19.85454545, 20.8       , 21.74545455, 22.69090909,\n",
       "        23.63636364, 24.58181818, 25.52727273, 26.47272727, 27.41818182,\n",
       "        28.36363636, 29.30909091, 30.25454545, 31.2       , 32.14545455,\n",
       "        33.09090909, 34.03636364, 34.98181818, 35.92727273, 36.87272727,\n",
       "        37.81818182, 38.76363636, 39.70909091, 40.65454545, 41.6       ,\n",
       "        42.54545455, 43.49090909, 44.43636364, 45.38181818, 46.32727273,\n",
       "        47.27272727, 48.21818182, 49.16363636, 50.10909091, 51.05454545,\n",
       "        52.        ]))"
      ]
     },
     "execution_count": 10,
     "metadata": {},
     "output_type": "execute_result"
    }
   ],
   "source": [
    "monflow_series = df[\"pedestrians\"]\n",
    "monflow_series.describe()\n",
    "np.histogram(monflow_series, bins=55)"
   ]
  },
  {
   "cell_type": "code",
   "execution_count": 12,
   "metadata": {},
   "outputs": [
    {
     "data": {
      "image/png": "[encoded data removed]",
      "text/plain": [
       "<Figure size 1440x576 with 1 Axes>"
      ]
     },
     "metadata": {
      "needs_background": "light"
     },
     "output_type": "display_data"
    }
   ],
   "source": [
    "fig, ax = plt.subplots(figsize=(20,8))\n",
    "boxes = np.arange(-0.5, 62, 1).tolist()\n",
    "plt.grid(zorder=0, linewidth=0.5, axis='y')\n",
    "ax.hist(real_series, bins=boxes, rwidth=0.8, density=True, alpha=0.5, histtype='bar', label=\"real\", zorder=3);\n",
    "ax.hist(monflow_series, bins=boxes, rwidth=0.8, density=True, alpha=0.5, histtype='bar', label=\"monflow\", zorder=3);\n",
    "ax.set_xticks(np.arange(0, 65, 1))\n",
    "ax.set_ylabel('Percentagem')\n",
    "ax.set_xlabel('Pessoas em cada Imagem')\n",
    "ax.legend()\n",
    "# ax.set_yticks(np.arange(0, 0.35, 0.025))\n",
    "ax.set_xlim(-1, 65)\n",
    "ax.yaxis.set_major_formatter(PercentFormatter(1, decimals=0))\n",
    "fig.savefig('two_histogram.png', bbox_inches='tight', dpi=300)"
   ]
  },
  {
   "cell_type": "code",
   "execution_count": 46,
   "metadata": {},
   "outputs": [
    {
     "data": {
      "image/png": "[encoded data removed]",
      "text/plain": [
       "<Figure size 1440x576 with 1 Axes>"
      ]
     },
     "metadata": {
      "needs_background": "light"
     },
     "output_type": "display_data"
    }
   ],
   "source": [
    "fig, ax = plt.subplots(figsize=(20,8))\n",
    "boxes = np.arange(-0.5, 62, 1).tolist()\n",
    "plt.grid(zorder=0, linewidth=0.5, axis='y')\n",
    "ax.hist(real_series, bins=boxes, rwidth=0.8, density=True, alpha=0.5, histtype='bar', label=\"real\", zorder=3);\n",
    "ax.hist(monflow_series, bins=boxes, rwidth=0.8, density=True, alpha=0.5, histtype='bar', label=\"monflow\", zorder=3);\n",
    "ax.set_xticks(np.arange(0, 65, 1));\n",
    "ax.legend()\n",
    "# ax.set_yticks(np.arange(0, 0.35, 0.025))\n",
    "ax.yaxis.set_major_formatter(PercentFormatter(1, decimals=1))"
   ]
  },
  {
   "cell_type": "markdown",
   "metadata": {},
   "source": [
    "## Plot Raw Difference"
   ]
  },
  {
   "cell_type": "code",
   "execution_count": 13,
   "metadata": {},
   "outputs": [
    {
     "data": {
      "text/plain": [
       "count    1657.000000\n",
       "mean        0.622209\n",
       "std         3.292825\n",
       "min       -13.000000\n",
       "25%        -1.000000\n",
       "50%         0.000000\n",
       "75%         1.000000\n",
       "max        32.000000\n",
       "Name: rawdiff, dtype: float64"
      ]
     },
     "execution_count": 13,
     "metadata": {},
     "output_type": "execute_result"
    }
   ],
   "source": [
    "diff_series = df[\"rawdiff\"]\n",
    "diff_series.describe()"
   ]
  },
  {
   "cell_type": "code",
   "execution_count": 14,
   "metadata": {},
   "outputs": [
    {
     "data": {
      "text/plain": [
       "(1657,)"
      ]
     },
     "execution_count": 14,
     "metadata": {},
     "output_type": "execute_result"
    }
   ],
   "source": [
    "diff_series.shape"
   ]
  },
  {
   "cell_type": "code",
   "execution_count": 15,
   "metadata": {},
   "outputs": [
    {
     "data": {
      "text/plain": [
       "236"
      ]
     },
     "execution_count": 15,
     "metadata": {},
     "output_type": "execute_result"
    }
   ],
   "source": [
    "len(diff_series[diff_series == 1])"
   ]
  },
  {
   "cell_type": "code",
   "execution_count": 16,
   "metadata": {},
   "outputs": [
    {
     "data": {
      "text/plain": [
       "(array([  1,   0,   0,   4,   0,   2,   5,   6,  11,  29,  66, 157, 244,\n",
       "        493, 236, 136,  98,  41,  27,  24,  18,  13,  12,   8,   1,   5,\n",
       "          1,   3,   2,   5,   0,   2,   1,   1,   1,   1,   1,   0,   0,\n",
       "          1,   0,   0,   0,   0,   1], dtype=int64),\n",
       " array([-13., -12., -11., -10.,  -9.,  -8.,  -7.,  -6.,  -5.,  -4.,  -3.,\n",
       "         -2.,  -1.,   0.,   1.,   2.,   3.,   4.,   5.,   6.,   7.,   8.,\n",
       "          9.,  10.,  11.,  12.,  13.,  14.,  15.,  16.,  17.,  18.,  19.,\n",
       "         20.,  21.,  22.,  23.,  24.,  25.,  26.,  27.,  28.,  29.,  30.,\n",
       "         31.,  32.]))"
      ]
     },
     "execution_count": 16,
     "metadata": {},
     "output_type": "execute_result"
    }
   ],
   "source": [
    "x = np.histogram(diff_series, bins=45)\n",
    "x"
   ]
  },
  {
   "cell_type": "code",
   "execution_count": 51,
   "metadata": {},
   "outputs": [
    {
     "data": {
      "image/png": "[encoded data removed]",
      "text/plain": [
       "<Figure size 1080x360 with 1 Axes>"
      ]
     },
     "metadata": {
      "needs_background": "light"
     },
     "output_type": "display_data"
    }
   ],
   "source": [
    "# sns.set(style=\"darkgrid\")\n",
    "plt.figure(figsize=(15,5))\n",
    "boxes = np.arange(-13, 34) - 0.5\n",
    "g = sns.distplot(diff_series, bins=boxes, kde=True)\n",
    "g.set_xticks(np.arange(-13, 34, 1));"
   ]
  },
  {
   "cell_type": "code",
   "execution_count": 48,
   "metadata": {},
   "outputs": [
    {
     "data": {
      "image/png": "[encoded data removed]",
      "text/plain": [
       "<Figure size 1440x720 with 1 Axes>"
      ]
     },
     "metadata": {
      "needs_background": "light"
     },
     "output_type": "display_data"
    }
   ],
   "source": [
    "fig, ax = plt.subplots(figsize=(20,10))\n",
    "boxes = np.arange(-13, 34) - 0.5\n",
    "plt.grid(zorder=0, linewidth=0.5, axis='y')\n",
    "ax.hist(diff_series, bins=boxes, rwidth=0.8, density=True, histtype='bar', zorder=3);\n",
    "ax.set_xticks(np.arange(-13, 34, 1));\n",
    "ax.set_xlim(-14, 34)\n",
    "# ax.set_yticks(np.arange(0, 0.31, 0.01));\n",
    "\n",
    "ax.set_ylabel('Percentagem')\n",
    "ax.set_xlabel('Erro do modelo referente a resposta certa')\n",
    "ax.set_yticks(np.arange(0, 0.32, 0.025))\n",
    "ax.yaxis.set_major_formatter(PercentFormatter(1, decimals=1))\n",
    "fig.savefig('diff.png', bbox_inches='tight', dpi=300)\n"
   ]
  },
  {
   "cell_type": "markdown",
   "metadata": {},
   "source": [
    "## Plot Abs Difference"
   ]
  },
  {
   "cell_type": "code",
   "execution_count": 19,
   "metadata": {},
   "outputs": [
    {
     "data": {
      "text/plain": [
       "count    1657.000000\n",
       "mean        1.910078\n",
       "std         2.753084\n",
       "min         0.000000\n",
       "25%         0.000000\n",
       "50%         1.000000\n",
       "75%         2.000000\n",
       "max        32.000000\n",
       "Name: absdiff, dtype: float64"
      ]
     },
     "execution_count": 19,
     "metadata": {},
     "output_type": "execute_result"
    }
   ],
   "source": [
    "abs_series = df[\"absdiff\"]\n",
    "abs_series.describe()"
   ]
  },
  {
   "cell_type": "code",
   "execution_count": 53,
   "metadata": {},
   "outputs": [
    {
     "data": {
      "image/png": "[encoded data removed]",
      "text/plain": [
       "<Figure size 1440x720 with 1 Axes>"
      ]
     },
     "metadata": {
      "needs_background": "light"
     },
     "output_type": "display_data"
    }
   ],
   "source": [
    "fig, ax = plt.subplots(figsize=(20,10))\n",
    "boxes = np.arange(0, 34) - 0.5\n",
    "plt.grid(zorder=0, linewidth=0.5, axis='y')\n",
    "ax.hist(abs_series, bins=boxes, rwidth=0.8, density=True, histtype='bar', zorder=3);\n",
    "ax.set_xticks(np.arange(0, 34, 1));\n",
    "# ax.set_yticks(np.arange(0, 0.3, 0.01), minor=True);\n",
    "ax.set_xlim(-1, 34)\n",
    "# ax.set_yticks(np.arange(0, 0.31, 0.01));\n",
    "ax.set_ylabel('Percentagem')\n",
    "ax.set_xlabel('Erro de contagem absoluto em cada imagem')\n",
    "ax.set_yticks(np.arange(0, 0.32, 0.025))\n",
    "ax.yaxis.set_major_formatter(PercentFormatter(1, decimals=1))\n",
    "fig.savefig('diff_abs.png', bbox_inches='tight', dpi=300)\n",
    "\n"
   ]
  },
  {
   "cell_type": "code",
   "execution_count": 20,
   "metadata": {},
   "outputs": [
    {
     "ename": "SyntaxError",
     "evalue": "invalid syntax (<ipython-input-20-418f6bf6d609>, line 8)",
     "output_type": "error",
     "traceback": [
      "\u001b[1;36m  File \u001b[1;32m\"<ipython-input-20-418f6bf6d609>\"\u001b[1;36m, line \u001b[1;32m8\u001b[0m\n\u001b[1;33m    ax.yaxis.set_major_formatter(PercentFormatter(1, decimals=1))plt.hist(diff_series, bins=b0)\u001b[0m\n\u001b[1;37m                                                                   ^\u001b[0m\n\u001b[1;31mSyntaxError\u001b[0m\u001b[1;31m:\u001b[0m invalid syntax\n"
     ]
    }
   ],
   "source": [
    "fig, ax = plt.subplots(figsize=(20,8))\n",
    "boxes = np.arange(-13, 34) - 0.5\n",
    "plt.grid(zorder=0, linewidth=0.5, axis='y')\n",
    "ax.hist(diff_series, bins=boxes, rwidth=0.8, density=True, histtype='bar', zorder=3);\n",
    "ax.set_xticks(np.arange(-13, 34, 1));\n",
    "ax.set_xlim(-14, 34)\n",
    "# ax.set_yticks(np.arange(0, 0.35, 0.025))\n",
    "ax.yaxis.set_major_formatter(PercentFormatter(1, decimals=1))plt.hist(diff_series, bins=b0)"
   ]
  },
  {
   "cell_type": "code",
   "execution_count": null,
   "metadata": {},
   "outputs": [],
   "source": [
    "mean_df = df.groupby(\"CAMERAID\").agg(['mean'])\n",
    "print(mean_df.shape)\n",
    "mean_df"
   ]
  },
  {
   "cell_type": "code",
   "execution_count": null,
   "metadata": {},
   "outputs": [],
   "source": [
    "ax0.hist(out_single[\"rssi\"], weights=np.ones(len(out_single[\"rssi\"])) / len(out_single[\"rssi\"]), bins=b0, alpha=0.4, label=\"pkts outside\")\n"
   ]
  },
  {
   "cell_type": "code",
   "execution_count": null,
   "metadata": {},
   "outputs": [],
   "source": []
  }
 ],
 "metadata": {
  "kernelspec": {
   "display_name": "Python 3",
   "language": "python",
   "name": "python3"
  },
  "language_info": {
   "codemirror_mode": {
    "name": "ipython",
    "version": 3
   },
   "file_extension": ".py",
   "mimetype": "text/x-python",
   "name": "python",
   "nbconvert_exporter": "python",
   "pygments_lexer": "ipython3",
   "version": "3.7.6"
  }
 },
 "nbformat": 4,
 "nbformat_minor": 4
}
